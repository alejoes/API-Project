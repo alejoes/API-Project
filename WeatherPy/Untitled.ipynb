{
 "cells": [
  {
   "cell_type": "code",
   "execution_count": 73,
   "metadata": {},
   "outputs": [],
   "source": [
    "import requests\n",
    "import json\n",
    "import pandas as pd\n",
    "\n",
    "\n",
    "def refresh():\n",
    "    # Request\n",
    "    # GET https://flex-capacity-na.amazon.com/GetOffersForProvider\n",
    "\n",
    "    token = \"Atna|EwICIFft_eIHBLFi8XE7qA679Fi9HEiuxsOHDmH2e0HCrCBwTmNlGRv7wMVROrjPm5aGLgFGftC4FsOCLmhPl65jupbMV6-N9_J1Y-M3EsXockiOp0DICl6JpJi2sHYHJ7CdmGuCBAV9SbnglnpDjBEbSFOPF-qXBZSb8akB2NTBBKKdB2sI9EN7fTbAP5S4YwTno4axHW0AGYB69AjP5lFT0pc09bCcMZBMxJ0IHC0pC5LFmhTdrZt_Y8r5hkROheDO7-4azjuFZlMlW6zIaa0CtGdeFTm-Ld5fGbQoQmQ8blZiLDmZpnmI8V2Fqgbt1hk41zjrtyTreCTJ22QulxQaIRuID8UX4dSWp9VXb-wMxLBYGw\"\n",
    "    try:\n",
    "        response = requests.get(\n",
    "            url=\"https://flex-capacity-na.amazon.com/GetOffersForProvider\",\n",
    "            params={\n",
    "                \"serviceAreaIds\": \"4e067ba1-4522-4642-9f25-8a202aa4657a\",\n",
    "                \"apiVersion\": \"V2\",\n",
    "            },\n",
    "            headers={\n",
    "                \"Host\": \"flex-capacity-na.amazon.com\",\n",
    "                \"Cookie\": \"session-id=136-7148571-4722456; session-id-time=2196972529l; session-token=\\\"hooi06p/UFnVEMylNuEUKBFcfS0q6DqjYZJ5EcfY6sSld5AGFYlqsS/LB+IwKqObIrdm+RUFS72J1wfDX+lwIqXEbIkcR+dE2fdyioC/eQBCHPNR8I1tIkTsdggkbjGsK8FQpW52EhZKN20UUsJn2P4ZrBv/F8FZufTdC4Tn2RLYxjmz3R+dB0K3rg9A4gnqigWqIJEFINk9wl5m5Hc3aPqImxEGZHjfyH3yA+nkJ8g=\\\"; ubid-main=130-6528265-6719362; lc-main=en_US\",\n",
    "                \"x-amz-access-token\": token,\n",
    "                \"x-flex-instance-id\": \"C8947976-72CF-42A9-B5A7-47D0F34310BC\",\n",
    "                \"Accept\": \"application/json\",\n",
    "                \"User-Agent\": \"iOS/12.3.1 (iPhone Darwin) Model/iPhone Platform/iPhone7,2 RabbitiOS/2.42\",\n",
    "                \"Accept-Language\": \"en_US\",\n",
    "                \"Accept-Encoding\": \"br, gzip, deflate\",\n",
    "                \"Connection\": \"keep-alive\",\n",
    "            },\n",
    "        )\n",
    "        print('Response HTTP Status Code: {status_code}'.format(\n",
    "            status_code=response.status_code))\n",
    "        print('Response HTTP Response Body: {content}'.format(\n",
    "            content=response.content))\n",
    "        return response.content\n",
    "    except requests.exceptions.RequestException:\n",
    "        print('HTTP Request failed')\n",
    "\n",
    "\n",
    "\n",
    "\n",
    "\n"
   ]
  },
  {
   "cell_type": "code",
   "execution_count": 74,
   "metadata": {},
   "outputs": [
    {
     "name": "stdout",
     "output_type": "stream",
     "text": [
      "Response HTTP Status Code: 403\n",
      "Response HTTP Response Body: b'{\"Message\":\"before - TokenException validating token with Aztec; x-amz-access-token: Atna|EwICIFft_eIHBLFi8XE7qA679Fi9HEiuxsOHDmH2e0HCrCBwTmNlGRv7wMVROrjPm5aGLgFGftC4FsOCLmhPl65jupbMV6-N9_J1Y-M3EsXockiOp0DICl6JpJi2sHYHJ7CdmGuCBAV9SbnglnpDjBEbSFOPF-qXBZSb8akB2NTBBKKdB2sI9EN7fTbAP5S4YwTno4axHW0AGYB69AjP5lFT0pc09bCcMZBMxJ0IHC0pC5LFmhTdrZt_Y8r5hkROheDO7-4azjuFZlMlW6zIaa0CtGdeFTm-Ld5fGbQoQmQ8blZiLDmZpnmI8V2Fqgbt1hk41zjrtyTreCTJ22QulxQaIRuID8UX4dSWp9VXb-wMxLBYGw, requestId: da0022d4-b8ff-4315-bc47-acbc5cb8f15c\"}\\n'\n"
     ]
    },
    {
     "ename": "KeyError",
     "evalue": "'offerList'",
     "output_type": "error",
     "traceback": [
      "\u001b[0;31m---------------------------------------------------------------------------\u001b[0m",
      "\u001b[0;31mKeyError\u001b[0m                                  Traceback (most recent call last)",
      "\u001b[0;32m<ipython-input-74-5ae3e2986a05>\u001b[0m in \u001b[0;36m<module>\u001b[0;34m\u001b[0m\n\u001b[1;32m      1\u001b[0m \u001b[0mresults\u001b[0m \u001b[0;34m=\u001b[0m \u001b[0mrefresh\u001b[0m\u001b[0;34m(\u001b[0m\u001b[0;34m)\u001b[0m\u001b[0;34m\u001b[0m\u001b[0;34m\u001b[0m\u001b[0m\n\u001b[1;32m      2\u001b[0m \u001b[0;34m\u001b[0m\u001b[0m\n\u001b[0;32m----> 3\u001b[0;31m \u001b[0mofferList\u001b[0m \u001b[0;34m=\u001b[0m \u001b[0mjson\u001b[0m\u001b[0;34m.\u001b[0m\u001b[0mloads\u001b[0m\u001b[0;34m(\u001b[0m\u001b[0mresults\u001b[0m\u001b[0;34m)\u001b[0m\u001b[0;34m[\u001b[0m\u001b[0;34m'offerList'\u001b[0m\u001b[0;34m]\u001b[0m\u001b[0;34m\u001b[0m\u001b[0;34m\u001b[0m\u001b[0m\n\u001b[0m\u001b[1;32m      4\u001b[0m \u001b[0;34m\u001b[0m\u001b[0m\n\u001b[1;32m      5\u001b[0m \u001b[0mpd\u001b[0m\u001b[0;34m.\u001b[0m\u001b[0mDataFrame\u001b[0m\u001b[0;34m.\u001b[0m\u001b[0mfrom_dict\u001b[0m\u001b[0;34m(\u001b[0m\u001b[0mofferList\u001b[0m\u001b[0;34m)\u001b[0m\u001b[0;34m\u001b[0m\u001b[0;34m\u001b[0m\u001b[0m\n",
      "\u001b[0;31mKeyError\u001b[0m: 'offerList'"
     ]
    }
   ],
   "source": [
    "results = refresh()\n",
    "\n",
    "offerList = json.loads(results)['offerList']\n",
    "\n",
    "pd.DataFrame.from_dict(offerList)"
   ]
  },
  {
   "cell_type": "code",
   "execution_count": null,
   "metadata": {},
   "outputs": [],
   "source": []
  },
  {
   "cell_type": "code",
   "execution_count": null,
   "metadata": {},
   "outputs": [],
   "source": []
  },
  {
   "cell_type": "code",
   "execution_count": null,
   "metadata": {},
   "outputs": [],
   "source": []
  },
  {
   "cell_type": "code",
   "execution_count": null,
   "metadata": {},
   "outputs": [],
   "source": []
  }
 ],
 "metadata": {
  "kernelspec": {
   "display_name": "Python 3",
   "language": "python",
   "name": "python3"
  },
  "language_info": {
   "codemirror_mode": {
    "name": "ipython",
    "version": 3
   },
   "file_extension": ".py",
   "mimetype": "text/x-python",
   "name": "python",
   "nbconvert_exporter": "python",
   "pygments_lexer": "ipython3",
   "version": "3.7.3"
  }
 },
 "nbformat": 4,
 "nbformat_minor": 2
}
